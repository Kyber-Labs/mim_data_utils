{
 "cells": [
  {
   "cell_type": "code",
   "execution_count": 1,
   "metadata": {},
   "outputs": [],
   "source": [
    "%load_ext autoreload\n",
    "\n",
    "import time\n",
    "\n",
    "import struct\n",
    "import array\n",
    "import gc\n",
    "\n",
    "import numpy as np\n",
    "import matplotlib.pylab as plt\n",
    "\n",
    "from data_utils import DataLogger, DataReader\n",
    "\n",
    "np.set_printoptions(suppress=True, precision=2)"
   ]
  },
  {
   "cell_type": "markdown",
   "metadata": {},
   "source": [
    "# Load the example data"
   ]
  },
  {
   "cell_type": "code",
   "execution_count": 2,
   "metadata": {},
   "outputs": [],
   "source": [
    "data = np.load('../data/2021-06-18_11-51-23.npz')\n",
    "joint_positions = data['joint_positions']"
   ]
  },
  {
   "cell_type": "markdown",
   "metadata": {},
   "source": [
    "# Store data in mim-data-storage file (.mds)"
   ]
  },
  {
   "cell_type": "code",
   "execution_count": 3,
   "metadata": {},
   "outputs": [
    {
     "name": "stdout",
     "output_type": "stream",
     "text": [
      "Took: 252.265 ms. Max delay: 0.410 ms\n"
     ]
    }
   ],
   "source": [
    "dl = DataLogger('test.mds')\n",
    "id_joint_positions = dl.add_field('ctrl.joint_positions', 12)\n",
    "id_joint_velocities = dl.add_field('ctrl.joint_velocities', 12)\n",
    "id_slider_positions = dl.add_field('ctrl.slider_positions 😀', 4)\n",
    "\n",
    "dl.init_file()\n",
    "\n",
    "joint_positions = data['joint_positions']\n",
    "joint_velocities = data['joint_velocities']\n",
    "slider_positions = data['slider_positions']\n",
    "\n",
    "T = joint_positions.shape[0]\n",
    "\n",
    "\n",
    "durations = np.zeros(T)\n",
    "start_overall = time.time()\n",
    "\n",
    "for it in range(T):\n",
    "    start = time.time()\n",
    "    \n",
    "    dl.begin_timestamp()\n",
    "    dl.log_array(id_joint_positions, joint_positions[it])\n",
    "    dl.log_array(id_joint_velocities, joint_velocities[it])\n",
    "    dl.log_array(id_slider_positions, slider_positions[it])\n",
    "    dl.end_timestep()\n",
    "    \n",
    "#     time.sleep(0.001)\n",
    "    \n",
    "    durations[it] = time.time() - start\n",
    "dl.close_file()\n",
    "\n",
    "print('Took: %0.3f ms. Max delay: %0.3f ms' % ((time.time() - start_overall) * 1000, np.max(durations) * 1000))"
   ]
  },
  {
   "cell_type": "markdown",
   "metadata": {},
   "source": [
    "# Read the created mim-data-storage file again"
   ]
  },
  {
   "cell_type": "code",
   "execution_count": 4,
   "metadata": {},
   "outputs": [
    {
     "name": "stdout",
     "output_type": "stream",
     "text": [
      "idx: 9999 fields: 3\n",
      "[('ctrl.joint_positions', 12), ('ctrl.joint_velocities', 12), ('ctrl.slider_positions 😀', 4)]\n"
     ]
    }
   ],
   "source": [
    "# Reading the file again.\n",
    "reader = DataReader('test.mds')\n",
    "\n",
    "# Check if the data we stored and loaded is the same.\n",
    "assert np.all((reader.data['ctrl.joint_positions'] - joint_positions) == 0.), \"Stored and loaded data not the same\""
   ]
  },
  {
   "cell_type": "code",
   "execution_count": null,
   "metadata": {},
   "outputs": [],
   "source": []
  }
 ],
 "metadata": {
  "kernelspec": {
   "display_name": "Python 3",
   "language": "python",
   "name": "python3"
  },
  "language_info": {
   "codemirror_mode": {
    "name": "ipython",
    "version": 3
   },
   "file_extension": ".py",
   "mimetype": "text/x-python",
   "name": "python",
   "nbconvert_exporter": "python",
   "pygments_lexer": "ipython3",
   "version": "3.9.1"
  }
 },
 "nbformat": 4,
 "nbformat_minor": 4
}
